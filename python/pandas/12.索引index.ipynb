{
 "cells": [
  {
   "cell_type": "code",
   "execution_count": 1,
   "metadata": {},
   "outputs": [],
   "source": [
    "import pandas as pd"
   ]
  },
  {
   "cell_type": "code",
   "execution_count": 2,
   "metadata": {},
   "outputs": [
    {
     "data": {
      "text/html": [
       "<div>\n",
       "<style scoped>\n",
       "    .dataframe tbody tr th:only-of-type {\n",
       "        vertical-align: middle;\n",
       "    }\n",
       "\n",
       "    .dataframe tbody tr th {\n",
       "        vertical-align: top;\n",
       "    }\n",
       "\n",
       "    .dataframe thead th {\n",
       "        text-align: right;\n",
       "    }\n",
       "</style>\n",
       "<table border=\"1\" class=\"dataframe\">\n",
       "  <thead>\n",
       "    <tr style=\"text-align: right;\">\n",
       "      <th></th>\n",
       "      <th>行 ID</th>\n",
       "      <th>订单 ID</th>\n",
       "      <th>订购日期</th>\n",
       "      <th>装运日期</th>\n",
       "      <th>装运方式</th>\n",
       "      <th>客户 ID</th>\n",
       "      <th>客户名称</th>\n",
       "      <th>细分市场</th>\n",
       "      <th>邮政编码 (Postal Code)</th>\n",
       "      <th>城市 (City)</th>\n",
       "      <th>...</th>\n",
       "      <th>子类别</th>\n",
       "      <th>产品名称</th>\n",
       "      <th>销售额</th>\n",
       "      <th>数量</th>\n",
       "      <th>折扣</th>\n",
       "      <th>利润</th>\n",
       "      <th>装运成本</th>\n",
       "      <th>订单优先级</th>\n",
       "      <th>year</th>\n",
       "      <th>month</th>\n",
       "    </tr>\n",
       "  </thead>\n",
       "  <tbody>\n",
       "    <tr>\n",
       "      <td>0</td>\n",
       "      <td>40098</td>\n",
       "      <td>CA-2014-AB10015140-41954</td>\n",
       "      <td>2014-11-11</td>\n",
       "      <td>2014-11-13</td>\n",
       "      <td>一级</td>\n",
       "      <td>AB-100151402</td>\n",
       "      <td>Aaron Bergman</td>\n",
       "      <td>消费者</td>\n",
       "      <td>73120.0</td>\n",
       "      <td>Oklahoma City</td>\n",
       "      <td>...</td>\n",
       "      <td>电话</td>\n",
       "      <td>Samsung Convoy 3</td>\n",
       "      <td>221.980</td>\n",
       "      <td>2</td>\n",
       "      <td>0.0</td>\n",
       "      <td>62.1544</td>\n",
       "      <td>40.77</td>\n",
       "      <td>高</td>\n",
       "      <td>2014</td>\n",
       "      <td>11</td>\n",
       "    </tr>\n",
       "    <tr>\n",
       "      <td>1</td>\n",
       "      <td>26341</td>\n",
       "      <td>IN-2014-JR162107-41675</td>\n",
       "      <td>2014-02-05</td>\n",
       "      <td>2014-02-07</td>\n",
       "      <td>二级</td>\n",
       "      <td>JR-162107</td>\n",
       "      <td>Justin Ritter</td>\n",
       "      <td>公司</td>\n",
       "      <td>NaN</td>\n",
       "      <td>Wollongong</td>\n",
       "      <td>...</td>\n",
       "      <td>椅子</td>\n",
       "      <td>Novimex Executive Leather Armchair, Black</td>\n",
       "      <td>3709.395</td>\n",
       "      <td>9</td>\n",
       "      <td>0.1</td>\n",
       "      <td>-288.7650</td>\n",
       "      <td>923.63</td>\n",
       "      <td>紧急</td>\n",
       "      <td>2014</td>\n",
       "      <td>2</td>\n",
       "    </tr>\n",
       "  </tbody>\n",
       "</table>\n",
       "<p>2 rows × 26 columns</p>\n",
       "</div>"
      ],
      "text/plain": [
       "    行 ID                     订单 ID       订购日期       装运日期 装运方式         客户 ID  \\\n",
       "0  40098  CA-2014-AB10015140-41954 2014-11-11 2014-11-13   一级  AB-100151402   \n",
       "1  26341    IN-2014-JR162107-41675 2014-02-05 2014-02-07   二级     JR-162107   \n",
       "\n",
       "            客户名称 细分市场  邮政编码 (Postal Code)      城市 (City)  ... 子类别  \\\n",
       "0  Aaron Bergman  消费者             73120.0  Oklahoma City  ...  电话   \n",
       "1  Justin Ritter   公司                 NaN     Wollongong  ...  椅子   \n",
       "\n",
       "                                        产品名称       销售额 数量   折扣        利润  \\\n",
       "0                           Samsung Convoy 3   221.980  2  0.0   62.1544   \n",
       "1  Novimex Executive Leather Armchair, Black  3709.395  9  0.1 -288.7650   \n",
       "\n",
       "     装运成本 订单优先级  year  month  \n",
       "0   40.77     高  2014     11  \n",
       "1  923.63    紧急  2014      2  \n",
       "\n",
       "[2 rows x 26 columns]"
      ]
     },
     "execution_count": 2,
     "metadata": {},
     "output_type": "execute_result"
    }
   ],
   "source": [
    "df = pd.read_excel(\"./data/全球超市订单数据.xlsx\")\n",
    "df.head(2)"
   ]
  },
  {
   "cell_type": "code",
   "execution_count": 3,
   "metadata": {},
   "outputs": [
    {
     "data": {
      "text/plain": [
       "行 ID                        51290\n",
       "订单 ID                       51290\n",
       "订购日期                        51290\n",
       "装运日期                        51290\n",
       "装运方式                        51290\n",
       "客户 ID                       51290\n",
       "客户名称                        51290\n",
       "细分市场                        51290\n",
       "邮政编码 (Postal Code)           9994\n",
       "城市 (City)                   51290\n",
       "省/市/自治区 (State/Province)    51290\n",
       "国家/地区 (Country)             51290\n",
       "地区                          51290\n",
       "市场                          51290\n",
       "产品 ID                       51290\n",
       "类别                          51290\n",
       "子类别                         51290\n",
       "产品名称                        51290\n",
       "销售额                         51290\n",
       "数量                          51290\n",
       "折扣                          51290\n",
       "利润                          51290\n",
       "装运成本                        51290\n",
       "订单优先级                       51290\n",
       "year                        51290\n",
       "month                       51290\n",
       "dtype: int64"
      ]
     },
     "execution_count": 3,
     "metadata": {},
     "output_type": "execute_result"
    }
   ],
   "source": [
    "df.count()"
   ]
  },
  {
   "cell_type": "code",
   "execution_count": 4,
   "metadata": {},
   "outputs": [],
   "source": [
    "df.set_index(\"客户 ID\", inplace=True, drop=False)"
   ]
  },
  {
   "cell_type": "code",
   "execution_count": 5,
   "metadata": {},
   "outputs": [
    {
     "data": {
      "text/html": [
       "<div>\n",
       "<style scoped>\n",
       "    .dataframe tbody tr th:only-of-type {\n",
       "        vertical-align: middle;\n",
       "    }\n",
       "\n",
       "    .dataframe tbody tr th {\n",
       "        vertical-align: top;\n",
       "    }\n",
       "\n",
       "    .dataframe thead th {\n",
       "        text-align: right;\n",
       "    }\n",
       "</style>\n",
       "<table border=\"1\" class=\"dataframe\">\n",
       "  <thead>\n",
       "    <tr style=\"text-align: right;\">\n",
       "      <th></th>\n",
       "      <th>行 ID</th>\n",
       "      <th>订单 ID</th>\n",
       "      <th>订购日期</th>\n",
       "      <th>装运日期</th>\n",
       "      <th>装运方式</th>\n",
       "      <th>客户 ID</th>\n",
       "      <th>客户名称</th>\n",
       "      <th>细分市场</th>\n",
       "      <th>邮政编码 (Postal Code)</th>\n",
       "      <th>城市 (City)</th>\n",
       "      <th>...</th>\n",
       "      <th>子类别</th>\n",
       "      <th>产品名称</th>\n",
       "      <th>销售额</th>\n",
       "      <th>数量</th>\n",
       "      <th>折扣</th>\n",
       "      <th>利润</th>\n",
       "      <th>装运成本</th>\n",
       "      <th>订单优先级</th>\n",
       "      <th>year</th>\n",
       "      <th>month</th>\n",
       "    </tr>\n",
       "    <tr>\n",
       "      <th>客户 ID</th>\n",
       "      <th></th>\n",
       "      <th></th>\n",
       "      <th></th>\n",
       "      <th></th>\n",
       "      <th></th>\n",
       "      <th></th>\n",
       "      <th></th>\n",
       "      <th></th>\n",
       "      <th></th>\n",
       "      <th></th>\n",
       "      <th></th>\n",
       "      <th></th>\n",
       "      <th></th>\n",
       "      <th></th>\n",
       "      <th></th>\n",
       "      <th></th>\n",
       "      <th></th>\n",
       "      <th></th>\n",
       "      <th></th>\n",
       "      <th></th>\n",
       "      <th></th>\n",
       "    </tr>\n",
       "  </thead>\n",
       "  <tbody>\n",
       "    <tr>\n",
       "      <td>AB-100151402</td>\n",
       "      <td>40098</td>\n",
       "      <td>CA-2014-AB10015140-41954</td>\n",
       "      <td>2014-11-11</td>\n",
       "      <td>2014-11-13</td>\n",
       "      <td>一级</td>\n",
       "      <td>AB-100151402</td>\n",
       "      <td>Aaron Bergman</td>\n",
       "      <td>消费者</td>\n",
       "      <td>73120.0</td>\n",
       "      <td>Oklahoma City</td>\n",
       "      <td>...</td>\n",
       "      <td>电话</td>\n",
       "      <td>Samsung Convoy 3</td>\n",
       "      <td>221.980</td>\n",
       "      <td>2</td>\n",
       "      <td>0.0</td>\n",
       "      <td>62.1544</td>\n",
       "      <td>40.77</td>\n",
       "      <td>高</td>\n",
       "      <td>2014</td>\n",
       "      <td>11</td>\n",
       "    </tr>\n",
       "    <tr>\n",
       "      <td>JR-162107</td>\n",
       "      <td>26341</td>\n",
       "      <td>IN-2014-JR162107-41675</td>\n",
       "      <td>2014-02-05</td>\n",
       "      <td>2014-02-07</td>\n",
       "      <td>二级</td>\n",
       "      <td>JR-162107</td>\n",
       "      <td>Justin Ritter</td>\n",
       "      <td>公司</td>\n",
       "      <td>NaN</td>\n",
       "      <td>Wollongong</td>\n",
       "      <td>...</td>\n",
       "      <td>椅子</td>\n",
       "      <td>Novimex Executive Leather Armchair, Black</td>\n",
       "      <td>3709.395</td>\n",
       "      <td>9</td>\n",
       "      <td>0.1</td>\n",
       "      <td>-288.7650</td>\n",
       "      <td>923.63</td>\n",
       "      <td>紧急</td>\n",
       "      <td>2014</td>\n",
       "      <td>2</td>\n",
       "    </tr>\n",
       "  </tbody>\n",
       "</table>\n",
       "<p>2 rows × 26 columns</p>\n",
       "</div>"
      ],
      "text/plain": [
       "               行 ID                     订单 ID       订购日期       装运日期 装运方式  \\\n",
       "客户 ID                                                                      \n",
       "AB-100151402  40098  CA-2014-AB10015140-41954 2014-11-11 2014-11-13   一级   \n",
       "JR-162107     26341    IN-2014-JR162107-41675 2014-02-05 2014-02-07   二级   \n",
       "\n",
       "                     客户 ID           客户名称 细分市场  邮政编码 (Postal Code)  \\\n",
       "客户 ID                                                                \n",
       "AB-100151402  AB-100151402  Aaron Bergman  消费者             73120.0   \n",
       "JR-162107        JR-162107  Justin Ritter   公司                 NaN   \n",
       "\n",
       "                  城市 (City)  ... 子类别  \\\n",
       "客户 ID                        ...       \n",
       "AB-100151402  Oklahoma City  ...  电话   \n",
       "JR-162107        Wollongong  ...  椅子   \n",
       "\n",
       "                                                   产品名称       销售额 数量   折扣  \\\n",
       "客户 ID                                                                       \n",
       "AB-100151402                           Samsung Convoy 3   221.980  2  0.0   \n",
       "JR-162107     Novimex Executive Leather Armchair, Black  3709.395  9  0.1   \n",
       "\n",
       "                    利润    装运成本 订单优先级  year  month  \n",
       "客户 ID                                              \n",
       "AB-100151402   62.1544   40.77     高  2014     11  \n",
       "JR-162107    -288.7650  923.63    紧急  2014      2  \n",
       "\n",
       "[2 rows x 26 columns]"
      ]
     },
     "execution_count": 5,
     "metadata": {},
     "output_type": "execute_result"
    }
   ],
   "source": [
    "df.head(2)"
   ]
  },
  {
   "cell_type": "code",
   "execution_count": 6,
   "metadata": {},
   "outputs": [
    {
     "data": {
      "text/plain": [
       "行 ID                        51290\n",
       "订单 ID                       51290\n",
       "订购日期                        51290\n",
       "装运日期                        51290\n",
       "装运方式                        51290\n",
       "客户 ID                       51290\n",
       "客户名称                        51290\n",
       "细分市场                        51290\n",
       "邮政编码 (Postal Code)           9994\n",
       "城市 (City)                   51290\n",
       "省/市/自治区 (State/Province)    51290\n",
       "国家/地区 (Country)             51290\n",
       "地区                          51290\n",
       "市场                          51290\n",
       "产品 ID                       51290\n",
       "类别                          51290\n",
       "子类别                         51290\n",
       "产品名称                        51290\n",
       "销售额                         51290\n",
       "数量                          51290\n",
       "折扣                          51290\n",
       "利润                          51290\n",
       "装运成本                        51290\n",
       "订单优先级                       51290\n",
       "year                        51290\n",
       "month                       51290\n",
       "dtype: int64"
      ]
     },
     "execution_count": 6,
     "metadata": {},
     "output_type": "execute_result"
    }
   ],
   "source": [
    "df.count()"
   ]
  },
  {
   "cell_type": "code",
   "execution_count": 7,
   "metadata": {},
   "outputs": [
    {
     "data": {
      "text/plain": [
       "Index(['AB-100151402', 'JR-162107', 'CR-127307', 'KM-1637548', 'RH-9495111',\n",
       "       'JM-156557', 'TS-2134092', 'MB-1808592', 'AB-100151402', 'AB-100151404',\n",
       "       ...\n",
       "       'ZD-219251408', 'HG-1502518', 'DB-132707', 'KH-1633058', 'KM-1637593',\n",
       "       'KE-1642066', 'ZD-219251408', 'ZD-219251404', 'RB-1979518',\n",
       "       'MC-1810093'],\n",
       "      dtype='object', name='客户 ID', length=51290)"
      ]
     },
     "execution_count": 7,
     "metadata": {},
     "output_type": "execute_result"
    }
   ],
   "source": [
    "df.index"
   ]
  },
  {
   "cell_type": "code",
   "execution_count": 8,
   "metadata": {},
   "outputs": [
    {
     "data": {
      "text/html": [
       "<div>\n",
       "<style scoped>\n",
       "    .dataframe tbody tr th:only-of-type {\n",
       "        vertical-align: middle;\n",
       "    }\n",
       "\n",
       "    .dataframe tbody tr th {\n",
       "        vertical-align: top;\n",
       "    }\n",
       "\n",
       "    .dataframe thead th {\n",
       "        text-align: right;\n",
       "    }\n",
       "</style>\n",
       "<table border=\"1\" class=\"dataframe\">\n",
       "  <thead>\n",
       "    <tr style=\"text-align: right;\">\n",
       "      <th></th>\n",
       "      <th>行 ID</th>\n",
       "      <th>订单 ID</th>\n",
       "      <th>订购日期</th>\n",
       "      <th>装运日期</th>\n",
       "      <th>装运方式</th>\n",
       "      <th>客户 ID</th>\n",
       "      <th>客户名称</th>\n",
       "      <th>细分市场</th>\n",
       "      <th>邮政编码 (Postal Code)</th>\n",
       "      <th>城市 (City)</th>\n",
       "      <th>...</th>\n",
       "      <th>子类别</th>\n",
       "      <th>产品名称</th>\n",
       "      <th>销售额</th>\n",
       "      <th>数量</th>\n",
       "      <th>折扣</th>\n",
       "      <th>利润</th>\n",
       "      <th>装运成本</th>\n",
       "      <th>订单优先级</th>\n",
       "      <th>year</th>\n",
       "      <th>month</th>\n",
       "    </tr>\n",
       "    <tr>\n",
       "      <th>客户 ID</th>\n",
       "      <th></th>\n",
       "      <th></th>\n",
       "      <th></th>\n",
       "      <th></th>\n",
       "      <th></th>\n",
       "      <th></th>\n",
       "      <th></th>\n",
       "      <th></th>\n",
       "      <th></th>\n",
       "      <th></th>\n",
       "      <th></th>\n",
       "      <th></th>\n",
       "      <th></th>\n",
       "      <th></th>\n",
       "      <th></th>\n",
       "      <th></th>\n",
       "      <th></th>\n",
       "      <th></th>\n",
       "      <th></th>\n",
       "      <th></th>\n",
       "      <th></th>\n",
       "    </tr>\n",
       "  </thead>\n",
       "  <tbody>\n",
       "    <tr>\n",
       "      <td>AB-100151402</td>\n",
       "      <td>40098</td>\n",
       "      <td>CA-2014-AB10015140-41954</td>\n",
       "      <td>2014-11-11</td>\n",
       "      <td>2014-11-13</td>\n",
       "      <td>一级</td>\n",
       "      <td>AB-100151402</td>\n",
       "      <td>Aaron Bergman</td>\n",
       "      <td>消费者</td>\n",
       "      <td>73120.0</td>\n",
       "      <td>Oklahoma City</td>\n",
       "      <td>...</td>\n",
       "      <td>电话</td>\n",
       "      <td>Samsung Convoy 3</td>\n",
       "      <td>221.98</td>\n",
       "      <td>2</td>\n",
       "      <td>0.0</td>\n",
       "      <td>62.1544</td>\n",
       "      <td>40.77</td>\n",
       "      <td>高</td>\n",
       "      <td>2014</td>\n",
       "      <td>11</td>\n",
       "    </tr>\n",
       "    <tr>\n",
       "      <td>AB-100151402</td>\n",
       "      <td>40099</td>\n",
       "      <td>CA-2014-AB10015140-41954</td>\n",
       "      <td>2014-11-11</td>\n",
       "      <td>2014-11-13</td>\n",
       "      <td>一级</td>\n",
       "      <td>AB-100151402</td>\n",
       "      <td>Aaron Bergman</td>\n",
       "      <td>消费者</td>\n",
       "      <td>73120.0</td>\n",
       "      <td>Oklahoma City</td>\n",
       "      <td>...</td>\n",
       "      <td>书架</td>\n",
       "      <td>Sauder Facets Collection Library, Sky Alder Fi...</td>\n",
       "      <td>341.96</td>\n",
       "      <td>2</td>\n",
       "      <td>0.0</td>\n",
       "      <td>54.7136</td>\n",
       "      <td>25.27</td>\n",
       "      <td>高</td>\n",
       "      <td>2014</td>\n",
       "      <td>11</td>\n",
       "    </tr>\n",
       "  </tbody>\n",
       "</table>\n",
       "<p>2 rows × 26 columns</p>\n",
       "</div>"
      ],
      "text/plain": [
       "               行 ID                     订单 ID       订购日期       装运日期 装运方式  \\\n",
       "客户 ID                                                                      \n",
       "AB-100151402  40098  CA-2014-AB10015140-41954 2014-11-11 2014-11-13   一级   \n",
       "AB-100151402  40099  CA-2014-AB10015140-41954 2014-11-11 2014-11-13   一级   \n",
       "\n",
       "                     客户 ID           客户名称 细分市场  邮政编码 (Postal Code)  \\\n",
       "客户 ID                                                                \n",
       "AB-100151402  AB-100151402  Aaron Bergman  消费者             73120.0   \n",
       "AB-100151402  AB-100151402  Aaron Bergman  消费者             73120.0   \n",
       "\n",
       "                  城市 (City)  ... 子类别  \\\n",
       "客户 ID                        ...       \n",
       "AB-100151402  Oklahoma City  ...  电话   \n",
       "AB-100151402  Oklahoma City  ...  书架   \n",
       "\n",
       "                                                           产品名称     销售额 数量  \\\n",
       "客户 ID                                                                        \n",
       "AB-100151402                                   Samsung Convoy 3  221.98  2   \n",
       "AB-100151402  Sauder Facets Collection Library, Sky Alder Fi...  341.96  2   \n",
       "\n",
       "               折扣       利润   装运成本 订单优先级  year  month  \n",
       "客户 ID                                                 \n",
       "AB-100151402  0.0  62.1544  40.77     高  2014     11  \n",
       "AB-100151402  0.0  54.7136  25.27     高  2014     11  \n",
       "\n",
       "[2 rows x 26 columns]"
      ]
     },
     "execution_count": 8,
     "metadata": {},
     "output_type": "execute_result"
    }
   ],
   "source": [
    "df.loc[\"AB-100151402\"].head(2)"
   ]
  },
  {
   "cell_type": "code",
   "execution_count": 9,
   "metadata": {},
   "outputs": [
    {
     "data": {
      "text/plain": [
       "False"
      ]
     },
     "execution_count": 9,
     "metadata": {},
     "output_type": "execute_result"
    }
   ],
   "source": [
    "df.index.is_monotonic_increasing"
   ]
  },
  {
   "cell_type": "code",
   "execution_count": 10,
   "metadata": {},
   "outputs": [
    {
     "data": {
      "text/plain": [
       "False"
      ]
     },
     "execution_count": 10,
     "metadata": {},
     "output_type": "execute_result"
    }
   ],
   "source": [
    "df.index.is_unique"
   ]
  },
  {
   "cell_type": "code",
   "execution_count": 17,
   "metadata": {},
   "outputs": [
    {
     "name": "stdout",
     "output_type": "stream",
     "text": [
      "966 µs ± 65.8 µs per loop (mean ± std. dev. of 7 runs, 1000 loops each)\n"
     ]
    }
   ],
   "source": [
    "%timeit df.loc[\"AB-100151402\"]"
   ]
  },
  {
   "cell_type": "code",
   "execution_count": 12,
   "metadata": {},
   "outputs": [],
   "source": [
    "df_sorted = df.sort_index()"
   ]
  },
  {
   "cell_type": "code",
   "execution_count": 13,
   "metadata": {},
   "outputs": [
    {
     "data": {
      "text/html": [
       "<div>\n",
       "<style scoped>\n",
       "    .dataframe tbody tr th:only-of-type {\n",
       "        vertical-align: middle;\n",
       "    }\n",
       "\n",
       "    .dataframe tbody tr th {\n",
       "        vertical-align: top;\n",
       "    }\n",
       "\n",
       "    .dataframe thead th {\n",
       "        text-align: right;\n",
       "    }\n",
       "</style>\n",
       "<table border=\"1\" class=\"dataframe\">\n",
       "  <thead>\n",
       "    <tr style=\"text-align: right;\">\n",
       "      <th></th>\n",
       "      <th>行 ID</th>\n",
       "      <th>订单 ID</th>\n",
       "      <th>订购日期</th>\n",
       "      <th>装运日期</th>\n",
       "      <th>装运方式</th>\n",
       "      <th>客户 ID</th>\n",
       "      <th>客户名称</th>\n",
       "      <th>细分市场</th>\n",
       "      <th>邮政编码 (Postal Code)</th>\n",
       "      <th>城市 (City)</th>\n",
       "      <th>...</th>\n",
       "      <th>子类别</th>\n",
       "      <th>产品名称</th>\n",
       "      <th>销售额</th>\n",
       "      <th>数量</th>\n",
       "      <th>折扣</th>\n",
       "      <th>利润</th>\n",
       "      <th>装运成本</th>\n",
       "      <th>订单优先级</th>\n",
       "      <th>year</th>\n",
       "      <th>month</th>\n",
       "    </tr>\n",
       "    <tr>\n",
       "      <th>客户 ID</th>\n",
       "      <th></th>\n",
       "      <th></th>\n",
       "      <th></th>\n",
       "      <th></th>\n",
       "      <th></th>\n",
       "      <th></th>\n",
       "      <th></th>\n",
       "      <th></th>\n",
       "      <th></th>\n",
       "      <th></th>\n",
       "      <th></th>\n",
       "      <th></th>\n",
       "      <th></th>\n",
       "      <th></th>\n",
       "      <th></th>\n",
       "      <th></th>\n",
       "      <th></th>\n",
       "      <th></th>\n",
       "      <th></th>\n",
       "      <th></th>\n",
       "      <th></th>\n",
       "    </tr>\n",
       "  </thead>\n",
       "  <tbody>\n",
       "    <tr>\n",
       "      <td>AA-10315102</td>\n",
       "      <td>27030</td>\n",
       "      <td>ID-2015-AA10315102-42011</td>\n",
       "      <td>2015-01-07</td>\n",
       "      <td>2015-01-11</td>\n",
       "      <td>标准级</td>\n",
       "      <td>AA-10315102</td>\n",
       "      <td>Alex Avila</td>\n",
       "      <td>消费者</td>\n",
       "      <td>NaN</td>\n",
       "      <td>Bacolod City</td>\n",
       "      <td>...</td>\n",
       "      <td>设备</td>\n",
       "      <td>Konica Calculator, Wireless</td>\n",
       "      <td>116.1675</td>\n",
       "      <td>3</td>\n",
       "      <td>0.25</td>\n",
       "      <td>35.6175</td>\n",
       "      <td>10.44</td>\n",
       "      <td>媒介</td>\n",
       "      <td>2015</td>\n",
       "      <td>1</td>\n",
       "    </tr>\n",
       "    <tr>\n",
       "      <td>AA-10315102</td>\n",
       "      <td>27029</td>\n",
       "      <td>ID-2015-AA10315102-42011</td>\n",
       "      <td>2015-01-07</td>\n",
       "      <td>2015-01-11</td>\n",
       "      <td>标准级</td>\n",
       "      <td>AA-10315102</td>\n",
       "      <td>Alex Avila</td>\n",
       "      <td>消费者</td>\n",
       "      <td>NaN</td>\n",
       "      <td>Bacolod City</td>\n",
       "      <td>...</td>\n",
       "      <td>标签</td>\n",
       "      <td>Hon File Folder Labels, Laser Printer Compatible</td>\n",
       "      <td>23.7600</td>\n",
       "      <td>5</td>\n",
       "      <td>0.45</td>\n",
       "      <td>-10.4400</td>\n",
       "      <td>2.84</td>\n",
       "      <td>媒介</td>\n",
       "      <td>2015</td>\n",
       "      <td>1</td>\n",
       "    </tr>\n",
       "  </tbody>\n",
       "</table>\n",
       "<p>2 rows × 26 columns</p>\n",
       "</div>"
      ],
      "text/plain": [
       "              行 ID                     订单 ID       订购日期       装运日期 装运方式  \\\n",
       "客户 ID                                                                     \n",
       "AA-10315102  27030  ID-2015-AA10315102-42011 2015-01-07 2015-01-11  标准级   \n",
       "AA-10315102  27029  ID-2015-AA10315102-42011 2015-01-07 2015-01-11  标准级   \n",
       "\n",
       "                   客户 ID        客户名称 细分市场  邮政编码 (Postal Code)     城市 (City)  \\\n",
       "客户 ID                                                                         \n",
       "AA-10315102  AA-10315102  Alex Avila  消费者                 NaN  Bacolod City   \n",
       "AA-10315102  AA-10315102  Alex Avila  消费者                 NaN  Bacolod City   \n",
       "\n",
       "             ... 子类别                                              产品名称  \\\n",
       "客户 ID        ...                                                         \n",
       "AA-10315102  ...  设备                       Konica Calculator, Wireless   \n",
       "AA-10315102  ...  标签  Hon File Folder Labels, Laser Printer Compatible   \n",
       "\n",
       "                  销售额 数量    折扣       利润   装运成本 订单优先级  year  month  \n",
       "客户 ID                                                              \n",
       "AA-10315102  116.1675  3  0.25  35.6175  10.44    媒介  2015      1  \n",
       "AA-10315102   23.7600  5  0.45 -10.4400   2.84    媒介  2015      1  \n",
       "\n",
       "[2 rows x 26 columns]"
      ]
     },
     "execution_count": 13,
     "metadata": {},
     "output_type": "execute_result"
    }
   ],
   "source": [
    "df_sorted.head(2)"
   ]
  },
  {
   "cell_type": "code",
   "execution_count": 14,
   "metadata": {},
   "outputs": [
    {
     "data": {
      "text/plain": [
       "True"
      ]
     },
     "execution_count": 14,
     "metadata": {},
     "output_type": "execute_result"
    }
   ],
   "source": [
    "df_sorted.index.is_monotonic_increasing"
   ]
  },
  {
   "cell_type": "code",
   "execution_count": 15,
   "metadata": {},
   "outputs": [
    {
     "data": {
      "text/plain": [
       "False"
      ]
     },
     "execution_count": 15,
     "metadata": {},
     "output_type": "execute_result"
    }
   ],
   "source": [
    "df_sorted.index.is_unique"
   ]
  },
  {
   "cell_type": "code",
   "execution_count": 16,
   "metadata": {},
   "outputs": [
    {
     "name": "stdout",
     "output_type": "stream",
     "text": [
      "124 µs ± 3.98 µs per loop (mean ± std. dev. of 7 runs, 10000 loops each)\n"
     ]
    }
   ],
   "source": [
    "%timeit df_sorted.loc[\"AB-100151402\"]"
   ]
  },
  {
   "cell_type": "markdown",
   "metadata": {},
   "source": [
    "# 3.对齐功能"
   ]
  },
  {
   "cell_type": "code",
   "execution_count": 18,
   "metadata": {},
   "outputs": [],
   "source": [
    "s1 = pd.Series([1,2,3], index=list(\"abc\"))"
   ]
  },
  {
   "cell_type": "code",
   "execution_count": 19,
   "metadata": {},
   "outputs": [
    {
     "data": {
      "text/plain": [
       "a    1\n",
       "b    2\n",
       "c    3\n",
       "dtype: int64"
      ]
     },
     "execution_count": 19,
     "metadata": {},
     "output_type": "execute_result"
    }
   ],
   "source": [
    "s1"
   ]
  },
  {
   "cell_type": "code",
   "execution_count": 20,
   "metadata": {},
   "outputs": [],
   "source": [
    "s2 = pd.Series([2,3,4], index=list(\"bcd\"))"
   ]
  },
  {
   "cell_type": "code",
   "execution_count": 21,
   "metadata": {},
   "outputs": [
    {
     "data": {
      "text/plain": [
       "b    2\n",
       "c    3\n",
       "d    4\n",
       "dtype: int64"
      ]
     },
     "execution_count": 21,
     "metadata": {},
     "output_type": "execute_result"
    }
   ],
   "source": [
    "s2"
   ]
  },
  {
   "cell_type": "code",
   "execution_count": 22,
   "metadata": {},
   "outputs": [
    {
     "data": {
      "text/plain": [
       "a    NaN\n",
       "b    4.0\n",
       "c    6.0\n",
       "d    NaN\n",
       "dtype: float64"
      ]
     },
     "execution_count": 22,
     "metadata": {},
     "output_type": "execute_result"
    }
   ],
   "source": [
    "s1 + s2"
   ]
  },
  {
   "cell_type": "code",
   "execution_count": null,
   "metadata": {},
   "outputs": [],
   "source": []
  }
 ],
 "metadata": {
  "kernelspec": {
   "display_name": "Python 3.7.4 ('base')",
   "language": "python",
   "name": "python3"
  },
  "language_info": {
   "codemirror_mode": {
    "name": "ipython",
    "version": 3
   },
   "file_extension": ".py",
   "mimetype": "text/x-python",
   "name": "python",
   "nbconvert_exporter": "python",
   "pygments_lexer": "ipython3",
   "version": "3.7.4"
  },
  "orig_nbformat": 4,
  "vscode": {
   "interpreter": {
    "hash": "ad2bdc8ecc057115af97d19610ffacc2b4e99fae6737bb82f5d7fb13d2f2c186"
   }
  }
 },
 "nbformat": 4,
 "nbformat_minor": 2
}
