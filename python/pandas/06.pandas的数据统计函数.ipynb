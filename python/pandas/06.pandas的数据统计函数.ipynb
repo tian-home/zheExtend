{
 "cells": [
  {
   "cell_type": "code",
   "execution_count": 2,
   "metadata": {},
   "outputs": [],
   "source": [
    "import pandas as pd"
   ]
  },
  {
   "cell_type": "markdown",
   "metadata": {},
   "source": [
    "# 0.数据读取"
   ]
  },
  {
   "cell_type": "code",
   "execution_count": 3,
   "metadata": {},
   "outputs": [],
   "source": [
    "df = pd.read_excel('./data/全球超市订单数据.xlsx')"
   ]
  },
  {
   "cell_type": "code",
   "execution_count": 3,
   "metadata": {},
   "outputs": [
    {
     "data": {
      "text/html": [
       "<div>\n",
       "<style scoped>\n",
       "    .dataframe tbody tr th:only-of-type {\n",
       "        vertical-align: middle;\n",
       "    }\n",
       "\n",
       "    .dataframe tbody tr th {\n",
       "        vertical-align: top;\n",
       "    }\n",
       "\n",
       "    .dataframe thead th {\n",
       "        text-align: right;\n",
       "    }\n",
       "</style>\n",
       "<table border=\"1\" class=\"dataframe\">\n",
       "  <thead>\n",
       "    <tr style=\"text-align: right;\">\n",
       "      <th></th>\n",
       "      <th>行 ID</th>\n",
       "      <th>订单 ID</th>\n",
       "      <th>订购日期</th>\n",
       "      <th>装运日期</th>\n",
       "      <th>装运方式</th>\n",
       "      <th>客户 ID</th>\n",
       "      <th>客户名称</th>\n",
       "      <th>细分市场</th>\n",
       "      <th>邮政编码 (Postal Code)</th>\n",
       "      <th>城市 (City)</th>\n",
       "      <th>...</th>\n",
       "      <th>子类别</th>\n",
       "      <th>产品名称</th>\n",
       "      <th>销售额</th>\n",
       "      <th>数量</th>\n",
       "      <th>折扣</th>\n",
       "      <th>利润</th>\n",
       "      <th>装运成本</th>\n",
       "      <th>订单优先级</th>\n",
       "      <th>year</th>\n",
       "      <th>month</th>\n",
       "    </tr>\n",
       "  </thead>\n",
       "  <tbody>\n",
       "    <tr>\n",
       "      <td>0</td>\n",
       "      <td>40098</td>\n",
       "      <td>CA-2014-AB10015140-41954</td>\n",
       "      <td>2014-11-11</td>\n",
       "      <td>2014-11-13</td>\n",
       "      <td>一级</td>\n",
       "      <td>AB-100151402</td>\n",
       "      <td>Aaron Bergman</td>\n",
       "      <td>消费者</td>\n",
       "      <td>73120.0</td>\n",
       "      <td>Oklahoma City</td>\n",
       "      <td>...</td>\n",
       "      <td>电话</td>\n",
       "      <td>Samsung Convoy 3</td>\n",
       "      <td>221.980</td>\n",
       "      <td>2</td>\n",
       "      <td>0.0</td>\n",
       "      <td>62.1544</td>\n",
       "      <td>40.77</td>\n",
       "      <td>高</td>\n",
       "      <td>2014</td>\n",
       "      <td>11</td>\n",
       "    </tr>\n",
       "    <tr>\n",
       "      <td>1</td>\n",
       "      <td>26341</td>\n",
       "      <td>IN-2014-JR162107-41675</td>\n",
       "      <td>2014-02-05</td>\n",
       "      <td>2014-02-07</td>\n",
       "      <td>二级</td>\n",
       "      <td>JR-162107</td>\n",
       "      <td>Justin Ritter</td>\n",
       "      <td>公司</td>\n",
       "      <td>NaN</td>\n",
       "      <td>Wollongong</td>\n",
       "      <td>...</td>\n",
       "      <td>椅子</td>\n",
       "      <td>Novimex Executive Leather Armchair, Black</td>\n",
       "      <td>3709.395</td>\n",
       "      <td>9</td>\n",
       "      <td>0.1</td>\n",
       "      <td>-288.7650</td>\n",
       "      <td>923.63</td>\n",
       "      <td>紧急</td>\n",
       "      <td>2014</td>\n",
       "      <td>2</td>\n",
       "    </tr>\n",
       "  </tbody>\n",
       "</table>\n",
       "<p>2 rows × 26 columns</p>\n",
       "</div>"
      ],
      "text/plain": [
       "    行 ID                     订单 ID       订购日期       装运日期 装运方式         客户 ID  \\\n",
       "0  40098  CA-2014-AB10015140-41954 2014-11-11 2014-11-13   一级  AB-100151402   \n",
       "1  26341    IN-2014-JR162107-41675 2014-02-05 2014-02-07   二级     JR-162107   \n",
       "\n",
       "            客户名称 细分市场  邮政编码 (Postal Code)      城市 (City)  ... 子类别  \\\n",
       "0  Aaron Bergman  消费者             73120.0  Oklahoma City  ...  电话   \n",
       "1  Justin Ritter   公司                 NaN     Wollongong  ...  椅子   \n",
       "\n",
       "                                        产品名称       销售额 数量   折扣        利润  \\\n",
       "0                           Samsung Convoy 3   221.980  2  0.0   62.1544   \n",
       "1  Novimex Executive Leather Armchair, Black  3709.395  9  0.1 -288.7650   \n",
       "\n",
       "     装运成本 订单优先级  year  month  \n",
       "0   40.77     高  2014     11  \n",
       "1  923.63    紧急  2014      2  \n",
       "\n",
       "[2 rows x 26 columns]"
      ]
     },
     "execution_count": 3,
     "metadata": {},
     "output_type": "execute_result"
    }
   ],
   "source": [
    "df.head(2)"
   ]
  },
  {
   "cell_type": "markdown",
   "metadata": {},
   "source": [
    "# 1.汇总类统计"
   ]
  },
  {
   "cell_type": "code",
   "execution_count": 4,
   "metadata": {},
   "outputs": [
    {
     "data": {
      "text/html": [
       "<div>\n",
       "<style scoped>\n",
       "    .dataframe tbody tr th:only-of-type {\n",
       "        vertical-align: middle;\n",
       "    }\n",
       "\n",
       "    .dataframe tbody tr th {\n",
       "        vertical-align: top;\n",
       "    }\n",
       "\n",
       "    .dataframe thead th {\n",
       "        text-align: right;\n",
       "    }\n",
       "</style>\n",
       "<table border=\"1\" class=\"dataframe\">\n",
       "  <thead>\n",
       "    <tr style=\"text-align: right;\">\n",
       "      <th></th>\n",
       "      <th>行 ID</th>\n",
       "      <th>邮政编码 (Postal Code)</th>\n",
       "      <th>销售额</th>\n",
       "      <th>数量</th>\n",
       "      <th>折扣</th>\n",
       "      <th>利润</th>\n",
       "      <th>装运成本</th>\n",
       "      <th>year</th>\n",
       "      <th>month</th>\n",
       "    </tr>\n",
       "  </thead>\n",
       "  <tbody>\n",
       "    <tr>\n",
       "      <td>count</td>\n",
       "      <td>51290.00000</td>\n",
       "      <td>9994.000000</td>\n",
       "      <td>51290.000000</td>\n",
       "      <td>51290.000000</td>\n",
       "      <td>51290.000000</td>\n",
       "      <td>51290.000000</td>\n",
       "      <td>51290.000000</td>\n",
       "      <td>51290.000000</td>\n",
       "      <td>51290.000000</td>\n",
       "    </tr>\n",
       "    <tr>\n",
       "      <td>mean</td>\n",
       "      <td>25645.50000</td>\n",
       "      <td>55190.379428</td>\n",
       "      <td>246.490581</td>\n",
       "      <td>3.476545</td>\n",
       "      <td>0.142908</td>\n",
       "      <td>28.610982</td>\n",
       "      <td>26.478567</td>\n",
       "      <td>2013.777208</td>\n",
       "      <td>7.516027</td>\n",
       "    </tr>\n",
       "    <tr>\n",
       "      <td>std</td>\n",
       "      <td>14806.29199</td>\n",
       "      <td>32063.693350</td>\n",
       "      <td>487.565361</td>\n",
       "      <td>2.278766</td>\n",
       "      <td>0.212280</td>\n",
       "      <td>174.340972</td>\n",
       "      <td>57.251373</td>\n",
       "      <td>1.098931</td>\n",
       "      <td>3.300526</td>\n",
       "    </tr>\n",
       "    <tr>\n",
       "      <td>min</td>\n",
       "      <td>1.00000</td>\n",
       "      <td>1040.000000</td>\n",
       "      <td>0.444000</td>\n",
       "      <td>1.000000</td>\n",
       "      <td>0.000000</td>\n",
       "      <td>-6599.978000</td>\n",
       "      <td>1.002000</td>\n",
       "      <td>2012.000000</td>\n",
       "      <td>1.000000</td>\n",
       "    </tr>\n",
       "    <tr>\n",
       "      <td>25%</td>\n",
       "      <td>12823.25000</td>\n",
       "      <td>23223.000000</td>\n",
       "      <td>30.758625</td>\n",
       "      <td>2.000000</td>\n",
       "      <td>0.000000</td>\n",
       "      <td>0.000000</td>\n",
       "      <td>2.610000</td>\n",
       "      <td>2013.000000</td>\n",
       "      <td>5.000000</td>\n",
       "    </tr>\n",
       "    <tr>\n",
       "      <td>50%</td>\n",
       "      <td>25645.50000</td>\n",
       "      <td>56430.500000</td>\n",
       "      <td>85.053000</td>\n",
       "      <td>3.000000</td>\n",
       "      <td>0.000000</td>\n",
       "      <td>9.240000</td>\n",
       "      <td>7.790000</td>\n",
       "      <td>2014.000000</td>\n",
       "      <td>8.000000</td>\n",
       "    </tr>\n",
       "    <tr>\n",
       "      <td>75%</td>\n",
       "      <td>38467.75000</td>\n",
       "      <td>90008.000000</td>\n",
       "      <td>251.053200</td>\n",
       "      <td>5.000000</td>\n",
       "      <td>0.200000</td>\n",
       "      <td>36.810000</td>\n",
       "      <td>24.450000</td>\n",
       "      <td>2015.000000</td>\n",
       "      <td>10.000000</td>\n",
       "    </tr>\n",
       "    <tr>\n",
       "      <td>max</td>\n",
       "      <td>51290.00000</td>\n",
       "      <td>99301.000000</td>\n",
       "      <td>22638.480000</td>\n",
       "      <td>14.000000</td>\n",
       "      <td>0.850000</td>\n",
       "      <td>8399.976000</td>\n",
       "      <td>933.570000</td>\n",
       "      <td>2015.000000</td>\n",
       "      <td>12.000000</td>\n",
       "    </tr>\n",
       "  </tbody>\n",
       "</table>\n",
       "</div>"
      ],
      "text/plain": [
       "              行 ID  邮政编码 (Postal Code)           销售额            数量  \\\n",
       "count  51290.00000         9994.000000  51290.000000  51290.000000   \n",
       "mean   25645.50000        55190.379428    246.490581      3.476545   \n",
       "std    14806.29199        32063.693350    487.565361      2.278766   \n",
       "min        1.00000         1040.000000      0.444000      1.000000   \n",
       "25%    12823.25000        23223.000000     30.758625      2.000000   \n",
       "50%    25645.50000        56430.500000     85.053000      3.000000   \n",
       "75%    38467.75000        90008.000000    251.053200      5.000000   \n",
       "max    51290.00000        99301.000000  22638.480000     14.000000   \n",
       "\n",
       "                 折扣            利润          装运成本          year         month  \n",
       "count  51290.000000  51290.000000  51290.000000  51290.000000  51290.000000  \n",
       "mean       0.142908     28.610982     26.478567   2013.777208      7.516027  \n",
       "std        0.212280    174.340972     57.251373      1.098931      3.300526  \n",
       "min        0.000000  -6599.978000      1.002000   2012.000000      1.000000  \n",
       "25%        0.000000      0.000000      2.610000   2013.000000      5.000000  \n",
       "50%        0.000000      9.240000      7.790000   2014.000000      8.000000  \n",
       "75%        0.200000     36.810000     24.450000   2015.000000     10.000000  \n",
       "max        0.850000   8399.976000    933.570000   2015.000000     12.000000  "
      ]
     },
     "execution_count": 4,
     "metadata": {},
     "output_type": "execute_result"
    }
   ],
   "source": [
    "df.describe()"
   ]
  },
  {
   "cell_type": "code",
   "execution_count": 4,
   "metadata": {},
   "outputs": [
    {
     "data": {
      "text/plain": [
       "246.4905812025821"
      ]
     },
     "execution_count": 4,
     "metadata": {},
     "output_type": "execute_result"
    }
   ],
   "source": [
    "df[\"销售额\"].mean()"
   ]
  },
  {
   "cell_type": "code",
   "execution_count": 5,
   "metadata": {},
   "outputs": [
    {
     "data": {
      "text/plain": [
       "22638.48"
      ]
     },
     "execution_count": 5,
     "metadata": {},
     "output_type": "execute_result"
    }
   ],
   "source": [
    "\n",
    "df[\"销售额\"].max()"
   ]
  },
  {
   "cell_type": "code",
   "execution_count": 6,
   "metadata": {},
   "outputs": [
    {
     "data": {
      "text/plain": [
       "0.44399999999999995"
      ]
     },
     "execution_count": 6,
     "metadata": {},
     "output_type": "execute_result"
    }
   ],
   "source": [
    "df[\"销售额\"].min()"
   ]
  },
  {
   "cell_type": "markdown",
   "metadata": {},
   "source": [
    "# 2.唯一去重和按值计算"
   ]
  },
  {
   "cell_type": "code",
   "execution_count": 8,
   "metadata": {},
   "outputs": [
    {
     "data": {
      "text/plain": [
       "array(['消费者', '公司', '家庭办公室'], dtype=object)"
      ]
     },
     "execution_count": 8,
     "metadata": {},
     "output_type": "execute_result"
    }
   ],
   "source": [
    "df[\"细分市场\"].unique()"
   ]
  },
  {
   "cell_type": "code",
   "execution_count": 10,
   "metadata": {},
   "outputs": [
    {
     "data": {
      "text/plain": [
       "array(['AB-100151402', 'JR-162107', 'CR-127307', ..., 'ZD-219251402',\n",
       "       'AS-285147', 'MC-1810093'], dtype=object)"
      ]
     },
     "execution_count": 10,
     "metadata": {},
     "output_type": "execute_result"
    }
   ],
   "source": [
    "df[\"客户 ID\"].unique()"
   ]
  },
  {
   "cell_type": "code",
   "execution_count": 12,
   "metadata": {},
   "outputs": [
    {
     "data": {
      "text/plain": [
       "array(['CA-2014-AB10015140-41954', 'IN-2014-JR162107-41675',\n",
       "       'IN-2014-CR127307-41929', ..., 'IN-2015-KH1633058-42154',\n",
       "       'US-2014-ZD21925140-41765', 'MX-2013-MC1810093-41416'],\n",
       "      dtype=object)"
      ]
     },
     "execution_count": 12,
     "metadata": {},
     "output_type": "execute_result"
    }
   ],
   "source": [
    "df[\"订单 ID\"].unique()"
   ]
  },
  {
   "cell_type": "code",
   "execution_count": 13,
   "metadata": {},
   "outputs": [
    {
     "data": {
      "text/plain": [
       "17415"
      ]
     },
     "execution_count": 13,
     "metadata": {},
     "output_type": "execute_result"
    }
   ],
   "source": [
    "len(df[\"客户 ID\"].unique())"
   ]
  },
  {
   "cell_type": "code",
   "execution_count": 14,
   "metadata": {},
   "outputs": [
    {
     "data": {
      "text/plain": [
       "25728"
      ]
     },
     "execution_count": 14,
     "metadata": {},
     "output_type": "execute_result"
    }
   ],
   "source": [
    "len(df[\"订单 ID\"].unique())"
   ]
  },
  {
   "cell_type": "code",
   "execution_count": 15,
   "metadata": {},
   "outputs": [
    {
     "data": {
      "text/plain": [
       "消费者      26518\n",
       "公司       15429\n",
       "家庭办公室     9343\n",
       "Name: 细分市场, dtype: int64"
      ]
     },
     "execution_count": 15,
     "metadata": {},
     "output_type": "execute_result"
    }
   ],
   "source": [
    "df[\"细分市场\"].value_counts()"
   ]
  },
  {
   "cell_type": "markdown",
   "metadata": {},
   "source": [
    "# 3.相关系数和协方差"
   ]
  },
  {
   "cell_type": "code",
   "execution_count": 16,
   "metadata": {},
   "outputs": [
    {
     "data": {
      "text/html": [
       "<div>\n",
       "<style scoped>\n",
       "    .dataframe tbody tr th:only-of-type {\n",
       "        vertical-align: middle;\n",
       "    }\n",
       "\n",
       "    .dataframe tbody tr th {\n",
       "        vertical-align: top;\n",
       "    }\n",
       "\n",
       "    .dataframe thead th {\n",
       "        text-align: right;\n",
       "    }\n",
       "</style>\n",
       "<table border=\"1\" class=\"dataframe\">\n",
       "  <thead>\n",
       "    <tr style=\"text-align: right;\">\n",
       "      <th></th>\n",
       "      <th>行 ID</th>\n",
       "      <th>邮政编码 (Postal Code)</th>\n",
       "      <th>销售额</th>\n",
       "      <th>数量</th>\n",
       "      <th>折扣</th>\n",
       "      <th>利润</th>\n",
       "      <th>装运成本</th>\n",
       "      <th>year</th>\n",
       "      <th>month</th>\n",
       "    </tr>\n",
       "  </thead>\n",
       "  <tbody>\n",
       "    <tr>\n",
       "      <td>行 ID</td>\n",
       "      <td>2.192263e+08</td>\n",
       "      <td>8.946577e+05</td>\n",
       "      <td>-316835.451413</td>\n",
       "      <td>-5853.322779</td>\n",
       "      <td>275.315184</td>\n",
       "      <td>-49141.164258</td>\n",
       "      <td>-32577.591998</td>\n",
       "      <td>-14.984529</td>\n",
       "      <td>-1416.548860</td>\n",
       "    </tr>\n",
       "    <tr>\n",
       "      <td>邮政编码 (Postal Code)</td>\n",
       "      <td>8.946577e+05</td>\n",
       "      <td>1.028080e+09</td>\n",
       "      <td>-476682.766590</td>\n",
       "      <td>910.415885</td>\n",
       "      <td>386.870404</td>\n",
       "      <td>-225045.849445</td>\n",
       "      <td>-48134.584774</td>\n",
       "      <td>163.578168</td>\n",
       "      <td>2629.578345</td>\n",
       "    </tr>\n",
       "    <tr>\n",
       "      <td>销售额</td>\n",
       "      <td>-3.168355e+05</td>\n",
       "      <td>-4.766828e+05</td>\n",
       "      <td>237719.980797</td>\n",
       "      <td>348.399149</td>\n",
       "      <td>-8.975743</td>\n",
       "      <td>41219.309486</td>\n",
       "      <td>21433.175740</td>\n",
       "      <td>-1.556411</td>\n",
       "      <td>2.979328</td>\n",
       "    </tr>\n",
       "    <tr>\n",
       "      <td>数量</td>\n",
       "      <td>-5.853323e+03</td>\n",
       "      <td>9.104159e+02</td>\n",
       "      <td>348.399149</td>\n",
       "      <td>5.192776</td>\n",
       "      <td>-0.009614</td>\n",
       "      <td>41.462382</td>\n",
       "      <td>35.460246</td>\n",
       "      <td>-0.012644</td>\n",
       "      <td>0.155282</td>\n",
       "    </tr>\n",
       "    <tr>\n",
       "      <td>折扣</td>\n",
       "      <td>2.753152e+02</td>\n",
       "      <td>3.868704e+02</td>\n",
       "      <td>-8.975743</td>\n",
       "      <td>-0.009614</td>\n",
       "      <td>0.045063</td>\n",
       "      <td>-11.713013</td>\n",
       "      <td>-0.949814</td>\n",
       "      <td>-0.001375</td>\n",
       "      <td>-0.000126</td>\n",
       "    </tr>\n",
       "    <tr>\n",
       "      <td>利润</td>\n",
       "      <td>-4.914116e+04</td>\n",
       "      <td>-2.250458e+05</td>\n",
       "      <td>41219.309486</td>\n",
       "      <td>41.462382</td>\n",
       "      <td>-11.713013</td>\n",
       "      <td>30394.774483</td>\n",
       "      <td>3537.590174</td>\n",
       "      <td>0.503164</td>\n",
       "      <td>0.099449</td>\n",
       "    </tr>\n",
       "    <tr>\n",
       "      <td>装运成本</td>\n",
       "      <td>-3.257759e+04</td>\n",
       "      <td>-4.813458e+04</td>\n",
       "      <td>21433.175740</td>\n",
       "      <td>35.460246</td>\n",
       "      <td>-0.949814</td>\n",
       "      <td>3537.590174</td>\n",
       "      <td>3277.719738</td>\n",
       "      <td>-0.197238</td>\n",
       "      <td>0.936447</td>\n",
       "    </tr>\n",
       "    <tr>\n",
       "      <td>year</td>\n",
       "      <td>-1.498453e+01</td>\n",
       "      <td>1.635782e+02</td>\n",
       "      <td>-1.556411</td>\n",
       "      <td>-0.012644</td>\n",
       "      <td>-0.001375</td>\n",
       "      <td>0.503164</td>\n",
       "      <td>-0.197238</td>\n",
       "      <td>1.207650</td>\n",
       "      <td>-0.039957</td>\n",
       "    </tr>\n",
       "    <tr>\n",
       "      <td>month</td>\n",
       "      <td>-1.416549e+03</td>\n",
       "      <td>2.629578e+03</td>\n",
       "      <td>2.979328</td>\n",
       "      <td>0.155282</td>\n",
       "      <td>-0.000126</td>\n",
       "      <td>0.099449</td>\n",
       "      <td>0.936447</td>\n",
       "      <td>-0.039957</td>\n",
       "      <td>10.893473</td>\n",
       "    </tr>\n",
       "  </tbody>\n",
       "</table>\n",
       "</div>"
      ],
      "text/plain": [
       "                            行 ID  邮政编码 (Postal Code)            销售额  \\\n",
       "行 ID                2.192263e+08        8.946577e+05 -316835.451413   \n",
       "邮政编码 (Postal Code)  8.946577e+05        1.028080e+09 -476682.766590   \n",
       "销售额                -3.168355e+05       -4.766828e+05  237719.980797   \n",
       "数量                 -5.853323e+03        9.104159e+02     348.399149   \n",
       "折扣                  2.753152e+02        3.868704e+02      -8.975743   \n",
       "利润                 -4.914116e+04       -2.250458e+05   41219.309486   \n",
       "装运成本               -3.257759e+04       -4.813458e+04   21433.175740   \n",
       "year               -1.498453e+01        1.635782e+02      -1.556411   \n",
       "month              -1.416549e+03        2.629578e+03       2.979328   \n",
       "\n",
       "                             数量          折扣             利润          装运成本  \\\n",
       "行 ID               -5853.322779  275.315184  -49141.164258 -32577.591998   \n",
       "邮政编码 (Postal Code)   910.415885  386.870404 -225045.849445 -48134.584774   \n",
       "销售额                  348.399149   -8.975743   41219.309486  21433.175740   \n",
       "数量                     5.192776   -0.009614      41.462382     35.460246   \n",
       "折扣                    -0.009614    0.045063     -11.713013     -0.949814   \n",
       "利润                    41.462382  -11.713013   30394.774483   3537.590174   \n",
       "装运成本                  35.460246   -0.949814    3537.590174   3277.719738   \n",
       "year                  -0.012644   -0.001375       0.503164     -0.197238   \n",
       "month                  0.155282   -0.000126       0.099449      0.936447   \n",
       "\n",
       "                          year        month  \n",
       "行 ID                -14.984529 -1416.548860  \n",
       "邮政编码 (Postal Code)  163.578168  2629.578345  \n",
       "销售额                  -1.556411     2.979328  \n",
       "数量                   -0.012644     0.155282  \n",
       "折扣                   -0.001375    -0.000126  \n",
       "利润                    0.503164     0.099449  \n",
       "装运成本                 -0.197238     0.936447  \n",
       "year                  1.207650    -0.039957  \n",
       "month                -0.039957    10.893473  "
      ]
     },
     "execution_count": 16,
     "metadata": {},
     "output_type": "execute_result"
    }
   ],
   "source": [
    "df.cov()"
   ]
  },
  {
   "cell_type": "code",
   "execution_count": 17,
   "metadata": {},
   "outputs": [
    {
     "data": {
      "text/html": [
       "<div>\n",
       "<style scoped>\n",
       "    .dataframe tbody tr th:only-of-type {\n",
       "        vertical-align: middle;\n",
       "    }\n",
       "\n",
       "    .dataframe tbody tr th {\n",
       "        vertical-align: top;\n",
       "    }\n",
       "\n",
       "    .dataframe thead th {\n",
       "        text-align: right;\n",
       "    }\n",
       "</style>\n",
       "<table border=\"1\" class=\"dataframe\">\n",
       "  <thead>\n",
       "    <tr style=\"text-align: right;\">\n",
       "      <th></th>\n",
       "      <th>行 ID</th>\n",
       "      <th>邮政编码 (Postal Code)</th>\n",
       "      <th>销售额</th>\n",
       "      <th>数量</th>\n",
       "      <th>折扣</th>\n",
       "      <th>利润</th>\n",
       "      <th>装运成本</th>\n",
       "      <th>year</th>\n",
       "      <th>month</th>\n",
       "    </tr>\n",
       "  </thead>\n",
       "  <tbody>\n",
       "    <tr>\n",
       "      <td>行 ID</td>\n",
       "      <td>1.000000</td>\n",
       "      <td>0.009671</td>\n",
       "      <td>-0.043889</td>\n",
       "      <td>-0.173483</td>\n",
       "      <td>0.087594</td>\n",
       "      <td>-0.019037</td>\n",
       "      <td>-0.038431</td>\n",
       "      <td>-0.000921</td>\n",
       "      <td>-0.028987</td>\n",
       "    </tr>\n",
       "    <tr>\n",
       "      <td>邮政编码 (Postal Code)</td>\n",
       "      <td>0.009671</td>\n",
       "      <td>1.000000</td>\n",
       "      <td>-0.023854</td>\n",
       "      <td>0.012761</td>\n",
       "      <td>0.058443</td>\n",
       "      <td>-0.029961</td>\n",
       "      <td>-0.025491</td>\n",
       "      <td>0.004539</td>\n",
       "      <td>0.024958</td>\n",
       "    </tr>\n",
       "    <tr>\n",
       "      <td>销售额</td>\n",
       "      <td>-0.043889</td>\n",
       "      <td>-0.023854</td>\n",
       "      <td>1.000000</td>\n",
       "      <td>0.313577</td>\n",
       "      <td>-0.086722</td>\n",
       "      <td>0.484918</td>\n",
       "      <td>0.767835</td>\n",
       "      <td>-0.002905</td>\n",
       "      <td>0.001851</td>\n",
       "    </tr>\n",
       "    <tr>\n",
       "      <td>数量</td>\n",
       "      <td>-0.173483</td>\n",
       "      <td>0.012761</td>\n",
       "      <td>0.313577</td>\n",
       "      <td>1.000000</td>\n",
       "      <td>-0.019875</td>\n",
       "      <td>0.104365</td>\n",
       "      <td>0.271804</td>\n",
       "      <td>-0.005049</td>\n",
       "      <td>0.020646</td>\n",
       "    </tr>\n",
       "    <tr>\n",
       "      <td>折扣</td>\n",
       "      <td>0.087594</td>\n",
       "      <td>0.058443</td>\n",
       "      <td>-0.086722</td>\n",
       "      <td>-0.019875</td>\n",
       "      <td>1.000000</td>\n",
       "      <td>-0.316490</td>\n",
       "      <td>-0.078153</td>\n",
       "      <td>-0.005894</td>\n",
       "      <td>-0.000180</td>\n",
       "    </tr>\n",
       "    <tr>\n",
       "      <td>利润</td>\n",
       "      <td>-0.019037</td>\n",
       "      <td>-0.029961</td>\n",
       "      <td>0.484918</td>\n",
       "      <td>0.104365</td>\n",
       "      <td>-0.316490</td>\n",
       "      <td>1.000000</td>\n",
       "      <td>0.354423</td>\n",
       "      <td>0.002626</td>\n",
       "      <td>0.000173</td>\n",
       "    </tr>\n",
       "    <tr>\n",
       "      <td>装运成本</td>\n",
       "      <td>-0.038431</td>\n",
       "      <td>-0.025491</td>\n",
       "      <td>0.767835</td>\n",
       "      <td>0.271804</td>\n",
       "      <td>-0.078153</td>\n",
       "      <td>0.354423</td>\n",
       "      <td>1.000000</td>\n",
       "      <td>-0.003135</td>\n",
       "      <td>0.004956</td>\n",
       "    </tr>\n",
       "    <tr>\n",
       "      <td>year</td>\n",
       "      <td>-0.000921</td>\n",
       "      <td>0.004539</td>\n",
       "      <td>-0.002905</td>\n",
       "      <td>-0.005049</td>\n",
       "      <td>-0.005894</td>\n",
       "      <td>0.002626</td>\n",
       "      <td>-0.003135</td>\n",
       "      <td>1.000000</td>\n",
       "      <td>-0.011016</td>\n",
       "    </tr>\n",
       "    <tr>\n",
       "      <td>month</td>\n",
       "      <td>-0.028987</td>\n",
       "      <td>0.024958</td>\n",
       "      <td>0.001851</td>\n",
       "      <td>0.020646</td>\n",
       "      <td>-0.000180</td>\n",
       "      <td>0.000173</td>\n",
       "      <td>0.004956</td>\n",
       "      <td>-0.011016</td>\n",
       "      <td>1.000000</td>\n",
       "    </tr>\n",
       "  </tbody>\n",
       "</table>\n",
       "</div>"
      ],
      "text/plain": [
       "                        行 ID  邮政编码 (Postal Code)       销售额        数量  \\\n",
       "行 ID                1.000000            0.009671 -0.043889 -0.173483   \n",
       "邮政编码 (Postal Code)  0.009671            1.000000 -0.023854  0.012761   \n",
       "销售额                -0.043889           -0.023854  1.000000  0.313577   \n",
       "数量                 -0.173483            0.012761  0.313577  1.000000   \n",
       "折扣                  0.087594            0.058443 -0.086722 -0.019875   \n",
       "利润                 -0.019037           -0.029961  0.484918  0.104365   \n",
       "装运成本               -0.038431           -0.025491  0.767835  0.271804   \n",
       "year               -0.000921            0.004539 -0.002905 -0.005049   \n",
       "month              -0.028987            0.024958  0.001851  0.020646   \n",
       "\n",
       "                          折扣        利润      装运成本      year     month  \n",
       "行 ID                0.087594 -0.019037 -0.038431 -0.000921 -0.028987  \n",
       "邮政编码 (Postal Code)  0.058443 -0.029961 -0.025491  0.004539  0.024958  \n",
       "销售额                -0.086722  0.484918  0.767835 -0.002905  0.001851  \n",
       "数量                 -0.019875  0.104365  0.271804 -0.005049  0.020646  \n",
       "折扣                  1.000000 -0.316490 -0.078153 -0.005894 -0.000180  \n",
       "利润                 -0.316490  1.000000  0.354423  0.002626  0.000173  \n",
       "装运成本               -0.078153  0.354423  1.000000 -0.003135  0.004956  \n",
       "year               -0.005894  0.002626 -0.003135  1.000000 -0.011016  \n",
       "month              -0.000180  0.000173  0.004956 -0.011016  1.000000  "
      ]
     },
     "execution_count": 17,
     "metadata": {},
     "output_type": "execute_result"
    }
   ],
   "source": [
    "df.corr()"
   ]
  },
  {
   "cell_type": "code",
   "execution_count": 18,
   "metadata": {},
   "outputs": [
    {
     "data": {
      "text/plain": [
       "0.3135771809547907"
      ]
     },
     "execution_count": 18,
     "metadata": {},
     "output_type": "execute_result"
    }
   ],
   "source": [
    "df[\"销售额\"].corr(df[\"数量\"])"
   ]
  },
  {
   "cell_type": "code",
   "execution_count": 19,
   "metadata": {},
   "outputs": [
    {
     "data": {
      "text/plain": [
       "-0.019874695147652964"
      ]
     },
     "execution_count": 19,
     "metadata": {},
     "output_type": "execute_result"
    }
   ],
   "source": [
    "df[\"数量\"].corr(df[\"折扣\"])"
   ]
  },
  {
   "cell_type": "code",
   "execution_count": null,
   "metadata": {},
   "outputs": [],
   "source": []
  }
 ],
 "metadata": {
  "kernelspec": {
   "display_name": "Python 3.7.4 ('base')",
   "language": "python",
   "name": "python3"
  },
  "language_info": {
   "codemirror_mode": {
    "name": "ipython",
    "version": 3
   },
   "file_extension": ".py",
   "mimetype": "text/x-python",
   "name": "python",
   "nbconvert_exporter": "python",
   "pygments_lexer": "ipython3",
   "version": "3.7.4"
  },
  "orig_nbformat": 4,
  "vscode": {
   "interpreter": {
    "hash": "ad2bdc8ecc057115af97d19610ffacc2b4e99fae6737bb82f5d7fb13d2f2c186"
   }
  }
 },
 "nbformat": 4,
 "nbformat_minor": 2
}
